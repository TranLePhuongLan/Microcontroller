{
 "cells": [
  {
   "cell_type": "markdown",
   "id": "c71af293",
   "metadata": {},
   "source": [
    "# Envs"
   ]
  },
  {
   "cell_type": "code",
   "execution_count": null,
   "id": "3286b67b",
   "metadata": {},
   "outputs": [
    {
     "name": "stdout",
     "output_type": "stream",
     "text": [
      "Collecting pyserial\n",
      "  Using cached pyserial-3.5-py2.py3-none-any.whl.metadata (1.6 kB)\n",
      "Using cached pyserial-3.5-py2.py3-none-any.whl (90 kB)\n",
      "Installing collected packages: pyserial\n",
      "Successfully installed pyserial-3.5\n",
      "Note: you may need to restart the kernel to use updated packages.\n"
     ]
    }
   ],
   "source": [
    "# %pip install pyserial"
   ]
  },
  {
   "cell_type": "markdown",
   "id": "1b9e5d89",
   "metadata": {},
   "source": [
    "# Code"
   ]
  },
  {
   "cell_type": "code",
   "execution_count": 2,
   "id": "16390fdd",
   "metadata": {},
   "outputs": [
    {
     "name": "stdout",
     "output_type": "stream",
     "text": [
      "COM8 USB Serial Port (COM8)\n"
     ]
    }
   ],
   "source": [
    "import serial.tools.list_ports\n",
    "ports = serial.tools.list_ports.comports()\n",
    "for port in ports:\n",
    "    print(port.device, port.description)"
   ]
  },
  {
   "cell_type": "code",
   "execution_count": 4,
   "id": "ab184af6",
   "metadata": {},
   "outputs": [
    {
     "name": "stdout",
     "output_type": "stream",
     "text": [
      "b'A'\n"
     ]
    }
   ],
   "source": [
    "# Python code transmits a byte to Arduino /Microcontroller\n",
    "# Arduino sends back received byte.\n",
    "# Requires PySerial\n",
    "\n",
    "# (c) www.xanthium.in 2021\n",
    "# Rahul.S\n",
    "\n",
    "\n",
    "\n",
    "import serial\n",
    "import time\n",
    "\n",
    "SerialObj = serial.Serial('COM8', timeout= 1) # COMxx   format on Windows\n",
    "                                   #/dev/ttyUSBx format on Linux\n",
    "                                   #\n",
    "                                   #Eg /dev/ttyUSB0\n",
    "                                   #SerialObj = serial.Serial('/dev/ttyUSB0')\n",
    "                                   \n",
    "                                   \n",
    "#SerialObj = serial.Serial('COM11',9600)\n",
    "\n",
    "#print(SerialObj) #display default parameters\n",
    "\n",
    "SerialObj.baudrate = 9600  # set Baud rate to 9600\n",
    "SerialObj.bytesize = 8     # Number of data bits = 8\n",
    "SerialObj.parity   ='N'    # No parity\n",
    "SerialObj.stopbits = 1     # Number of Stop bits = 1\n",
    "\n",
    "time.sleep(3)   # Only needed for Arduino,For AVR/PIC/MSP430 & other Micros not needed\n",
    "                # opening the serial port from Python will reset the Arduino.\n",
    "                # Both Arduino and Python code are sharing Com11 here.\n",
    "                # 3 second delay allows the Arduino to settle down.\n",
    "                \n",
    "BytesWritten = SerialObj.write(b'A')      #transmit 'A' (8bit) to micro/Arduino\n",
    "EchoedVar    = SerialObj.read()           # wait for Arduino to echo received byte\n",
    "\n",
    "print (EchoedVar )\n",
    "\n",
    "\n",
    "SerialObj.close()"
   ]
  }
 ],
 "metadata": {
  "kernelspec": {
   "display_name": "microcontroller",
   "language": "python",
   "name": "python3"
  },
  "language_info": {
   "codemirror_mode": {
    "name": "ipython",
    "version": 3
   },
   "file_extension": ".py",
   "mimetype": "text/x-python",
   "name": "python",
   "nbconvert_exporter": "python",
   "pygments_lexer": "ipython3",
   "version": "3.11.11"
  }
 },
 "nbformat": 4,
 "nbformat_minor": 5
}
