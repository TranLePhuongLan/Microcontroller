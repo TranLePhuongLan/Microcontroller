{
 "cells": [
  {
   "cell_type": "markdown",
   "id": "fffee8d9",
   "metadata": {},
   "source": [
    "# Envs"
   ]
  },
  {
   "cell_type": "code",
   "execution_count": 1,
   "id": "ca43ddbd",
   "metadata": {},
   "outputs": [
    {
     "name": "stdout",
     "output_type": "stream",
     "text": [
      "Collecting pyfirmata\n",
      "  Downloading pyFirmata-1.1.0-py2.py3-none-any.whl.metadata (3.8 kB)\n",
      "Requirement already satisfied: pyserial in c:\\users\\20245580\\appdata\\local\\anaconda3\\envs\\microcontroller\\lib\\site-packages (from pyfirmata) (3.5)\n",
      "Downloading pyFirmata-1.1.0-py2.py3-none-any.whl (14 kB)\n",
      "Installing collected packages: pyfirmata\n",
      "Successfully installed pyfirmata-1.1.0\n",
      "Note: you may need to restart the kernel to use updated packages.\n"
     ]
    }
   ],
   "source": [
    "# %pip install pyfirmata"
   ]
  },
  {
   "cell_type": "code",
   "execution_count": null,
   "id": "2f69dcb8",
   "metadata": {},
   "outputs": [
    {
     "ename": "KeyboardInterrupt",
     "evalue": "",
     "output_type": "error",
     "traceback": [
      "\u001b[1;31m---------------------------------------------------------------------------\u001b[0m",
      "\u001b[1;31mKeyboardInterrupt\u001b[0m                         Traceback (most recent call last)",
      "Cell \u001b[1;32mIn[1], line 8\u001b[0m\n\u001b[0;32m      6\u001b[0m \u001b[38;5;28;01mwhile\u001b[39;00m \u001b[38;5;28;01mTrue\u001b[39;00m:\n\u001b[0;32m      7\u001b[0m     board\u001b[38;5;241m.\u001b[39mdigital[\u001b[38;5;241m13\u001b[39m]\u001b[38;5;241m.\u001b[39mwrite(\u001b[38;5;241m1\u001b[39m)\n\u001b[1;32m----> 8\u001b[0m     \u001b[43mtime\u001b[49m\u001b[38;5;241;43m.\u001b[39;49m\u001b[43msleep\u001b[49m\u001b[43m(\u001b[49m\u001b[38;5;241;43m1\u001b[39;49m\u001b[43m)\u001b[49m\n\u001b[0;32m      9\u001b[0m     board\u001b[38;5;241m.\u001b[39mdigital[\u001b[38;5;241m13\u001b[39m]\u001b[38;5;241m.\u001b[39mwrite(\u001b[38;5;241m0\u001b[39m)\n\u001b[0;32m     10\u001b[0m     time\u001b[38;5;241m.\u001b[39msleep(\u001b[38;5;241m1\u001b[39m)\n",
      "\u001b[1;31mKeyboardInterrupt\u001b[0m: "
     ]
    }
   ],
   "source": [
    "import pyfirmata\n",
    "import time\n",
    "\n",
    "board = pyfirmata.Arduino('COM8')\n",
    "\n",
    "while True:\n",
    "    board.digital[13].write(1) # digital pin 13 = built-in LED\n",
    "    time.sleep(1)\n",
    "    board.digital[13].write(0)\n",
    "    time.sleep(1)"
   ]
  },
  {
   "cell_type": "code",
   "execution_count": null,
   "id": "84a97794",
   "metadata": {},
   "outputs": [],
   "source": []
  }
 ],
 "metadata": {
  "kernelspec": {
   "display_name": "microcontroller",
   "language": "python",
   "name": "python3"
  },
  "language_info": {
   "codemirror_mode": {
    "name": "ipython",
    "version": 3
   },
   "file_extension": ".py",
   "mimetype": "text/x-python",
   "name": "python",
   "nbconvert_exporter": "python",
   "pygments_lexer": "ipython3",
   "version": "3.11.11"
  }
 },
 "nbformat": 4,
 "nbformat_minor": 5
}
