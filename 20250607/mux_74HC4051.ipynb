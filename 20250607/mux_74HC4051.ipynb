{
 "cells": [
  {
   "cell_type": "markdown",
   "id": "fffee8d9",
   "metadata": {},
   "source": [
    "# Envs"
   ]
  },
  {
   "cell_type": "code",
   "execution_count": 2,
   "id": "ca43ddbd",
   "metadata": {},
   "outputs": [],
   "source": [
    "# %pip install pyfirmata"
   ]
  },
  {
   "cell_type": "markdown",
   "id": "9fc5bfb3",
   "metadata": {},
   "source": [
    "# Test the communication to arduino board"
   ]
  },
  {
   "cell_type": "code",
   "execution_count": 2,
   "id": "2f69dcb8",
   "metadata": {},
   "outputs": [],
   "source": [
    "import pyfirmata\n",
    "import time\n",
    "\n",
    "# board = pyfirmata.Arduino('COM8')\n",
    "board = pyfirmata.Arduino('/dev/ttyACM0')"
   ]
  },
  {
   "cell_type": "code",
   "execution_count": null,
   "id": "e9d98ace",
   "metadata": {},
   "outputs": [],
   "source": [
    "while True:\n",
    "    board.digital[13].write(1) # digital pin 13 = built-in LED\n",
    "    time.sleep(1)\n",
    "    board.digital[13].write(0)\n",
    "    time.sleep(1)"
   ]
  },
  {
   "cell_type": "markdown",
   "id": "9c9ca474",
   "metadata": {},
   "source": [
    "# Control the Mux"
   ]
  },
  {
   "cell_type": "code",
   "execution_count": 31,
   "id": "90841bf9",
   "metadata": {},
   "outputs": [],
   "source": [
    "# enable the E_ the mux chip\n",
    "    # bin 5 = E_\n",
    "board.digital[5].write(1)"
   ]
  },
  {
   "cell_type": "code",
   "execution_count": 30,
   "id": "84a97794",
   "metadata": {},
   "outputs": [],
   "source": [
    "\n",
    "\n",
    "# connect the Z to Y1\n",
    "    # bin 2 = S0 (lsb)\n",
    "    # bin 3 = S1\n",
    "    # bin 4 = S2 (msb)\n",
    "\n",
    "board.digital[2].write(1)\n",
    "board.digital[3].write(0)\n",
    "board.digital[4].write(0) \n",
    " "
   ]
  },
  {
   "cell_type": "code",
   "execution_count": null,
   "id": "59334942",
   "metadata": {},
   "outputs": [],
   "source": []
  }
 ],
 "metadata": {
  "kernelspec": {
   "display_name": "micro",
   "language": "python",
   "name": "python3"
  },
  "language_info": {
   "codemirror_mode": {
    "name": "ipython",
    "version": 3
   },
   "file_extension": ".py",
   "mimetype": "text/x-python",
   "name": "python",
   "nbconvert_exporter": "python",
   "pygments_lexer": "ipython3",
   "version": "3.10.18"
  }
 },
 "nbformat": 4,
 "nbformat_minor": 5
}
